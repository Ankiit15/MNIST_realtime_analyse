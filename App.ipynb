{
 "cells": [
  {
   "cell_type": "code",
   "execution_count": 4,
   "metadata": {},
   "outputs": [],
   "source": [
    "import cv2\n",
    "import numpy as np\n",
    "from keras.models import load_model\n"
   ]
  },
  {
   "cell_type": "code",
   "execution_count": 5,
   "metadata": {},
   "outputs": [
    {
     "name": "stdout",
     "output_type": "stream",
     "text": [
      "Model Loaded!\n"
     ]
    }
   ],
   "source": [
    "model = load_model(r'D:\\trained_model.h5')\n",
    "print('Model Loaded!')"
   ]
  },
  {
   "cell_type": "code",
   "execution_count": 7,
   "metadata": {},
   "outputs": [],
   "source": [
    "run = False\n",
    "ix,iy = -1,-1\n",
    "follow = 25\n",
    "img = np.zeros((512,512,1))\n",
    "\n",
    "\n",
    "def draw(event, x, y, flag, params):\n",
    "    global run,ix,iy,img,follow\n",
    "    if event == cv2.EVENT_LBUTTONDOWN:\n",
    "        run = True\n",
    "        ix, iy = x, y\n",
    "    elif event == cv2.EVENT_MOUSEMOVE:\n",
    "        if run == True:\n",
    "            cv2.circle(img, (x,y), 20, (255,255,255), -1)\n",
    "\n",
    "    elif event == cv2.EVENT_LBUTTONUP:\n",
    "        run = False\n",
    "        cv2.circle(img, (x,y), 20, (255,255,255), -1)\n",
    "        gray = cv2.resize(img, (28, 28))\n",
    "        gray = gray.reshape(1,28,28,1)\n",
    "        gray = gray/255.0\n",
    "        result = np.argmax(model.predict(gray))        \n",
    "        result = 'cnn : {}'.format(result)\n",
    "        \n",
    "        pred = model.predict([gray])[0]    \n",
    "        final_pred = np.argmax(pred)\n",
    "        data = str(final_pred)+' '+ str(int(max(pred)*100))+'%'\n",
    "        \n",
    "        cv2.putText(img, org=(25,follow), fontFace=cv2.FONT_HERSHEY_SIMPLEX, fontScale=1, text= data, color=(255,0,0), thickness=1)\n",
    "        follow += 25\n",
    "    elif event == cv2.EVENT_RBUTTONDOWN:\n",
    "        img = np.zeros((512,512,1))\n",
    "        follow = 25\n",
    "\n",
    "\n",
    "cv2.namedWindow('image')\n",
    "cv2.setMouseCallback('image', draw)\n",
    "\n",
    "\n",
    "while True:    \n",
    "    cv2.imshow(\"image\", img)\n",
    "   \n",
    "    if cv2.waitKey(1) == 27:   #Esc Key\n",
    "        break\n",
    "\n",
    "cv2.destroyAllWindows()\n"
   ]
  },
  {
   "cell_type": "code",
   "execution_count": null,
   "metadata": {},
   "outputs": [],
   "source": []
  }
 ],
 "metadata": {
  "kernelspec": {
   "display_name": "Python 3",
   "language": "python",
   "name": "python3"
  },
  "language_info": {
   "codemirror_mode": {
    "name": "ipython",
    "version": 3
   },
   "file_extension": ".py",
   "mimetype": "text/x-python",
   "name": "python",
   "nbconvert_exporter": "python",
   "pygments_lexer": "ipython3",
   "version": "3.7.4"
  }
 },
 "nbformat": 4,
 "nbformat_minor": 2
}
